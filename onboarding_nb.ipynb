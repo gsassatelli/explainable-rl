{
 "cells": [
  {
   "attachments": {},
   "cell_type": "markdown",
   "metadata": {},
   "source": [
    "# ExplainableRL: Onboarding recipe\n",
    "Pricing strategy can hugely influence a company's profitability, and therefore understanding price sensitivity and market demand is essential. With ExplainableRL, we have automated the manual process of pricing strategies using reinforcement learning. We have overcome the limitations of popular RL libraries such as Mushroom RL by creating an environment capable of dealing with industry datasets, and an explainability framework to understand the automated decisions.\n",
    "\n",
    "This notebook presents a comprehensive guide on utilizing ExplainableRL. It outlines the necessary steps, including the selection of environment, training of preferred agent, performance evaluation, generation of PDP plots and SHAP values to aid in understanding the agent's decision-making, and an overview of the time and memory performance of the primary processing components of the library. A more detailed overview of ExplainableRL can be found in the documentation.\n"
   ]
  },
  {
   "attachments": {},
   "cell_type": "markdown",
   "metadata": {},
   "source": [
    "### Relevant imports"
   ]
  },
  {
   "cell_type": "code",
   "execution_count": 2,
   "metadata": {},
   "outputs": [],
   "source": [
    "from library import *\n",
    "\n",
    "# Import functions\n",
    "from src.foundation.engine import Engine\n",
    "from src.data_handler.data_handler import DataHandler\n",
    "from src.explainability.pdp import PDP\n",
    "from src.explainability.shap_values import ShapValues\n",
    "from src.foundation import utils"
   ]
  },
  {
   "attachments": {},
   "cell_type": "markdown",
   "metadata": {},
   "source": [
    "### 1. Parameters Setting"
   ]
  },
  {
   "cell_type": "code",
   "execution_count": 3,
   "metadata": {},
   "outputs": [],
   "source": [
    "# TODO: Explain each parameter and when to use what\n",
    "hyperparam_dict_ds_data_predict = {\n",
    "    \"dimensions\": {'states': {'lead_time': 10,\n",
    "                                'length_of_stay': 10,\n",
    "                                'competitor_price_difference_bin': 4,\n",
    "                                'demand_bin': 4},\n",
    "                    'actions': {'price': 10},\n",
    "                    'rewards': ['reward']\n",
    "                    },\n",
    "\n",
    "    \"dataset\": {'data_path': 'data/ds-data/my_example_data.parquet',\n",
    "                'col_delimiter': '|',\n",
    "                'n_samples': 100000,\n",
    "                'normalisation': True},\n",
    "\n",
    "    \"training\": {'env_type': 'strategic_pricing_predict',\n",
    "                    'num_episodes': 10,\n",
    "                    'num_steps': 1,\n",
    "                    'train_test_split': 0.2,\n",
    "                    'evaluate': False,\n",
    "                    'num_eval_steps': 3000},\n",
    "\n",
    "    \"agent\": {'agent_type': 'q_learner',\n",
    "                \"gamma\": 0.3,\n",
    "                \"epsilon\": 0.1,\n",
    "                \"epsilon_decay\": 0.05,\n",
    "                \"epsilon_minimum\": 0.01,\n",
    "                \"learning_rate\": 0.1,\n",
    "                \"learning_rate_decay\": 0.05,\n",
    "                \"learning_rate_minimum\": 0.01,\n",
    "                \"lambda\": 0.2,\n",
    "                \"use_uncertainty\": False,\n",
    "                \"q_importance\": 0.7,\n",
    "                },\n",
    "\n",
    "    \"explainability\": {'shap_num_samples': 1},\n",
    "\n",
    "    \"program_flow\": {\"verbose\": False}\n",
    "}"
   ]
  },
  {
   "attachments": {},
   "cell_type": "markdown",
   "metadata": {},
   "source": [
    "### 2. Initialisation"
   ]
  },
  {
   "cell_type": "code",
   "execution_count": 4,
   "metadata": {},
   "outputs": [],
   "source": [
    "# TODO: overview of what to initialise (DataHandler & Engine with Agent and Env inside)\n",
    "# TODO: If needed by evaluation/explainability/performance add a new dictionary and explain it\n",
    "hyperparam_dict = hyperparam_dict_ds_data_predict\n"
   ]
  },
  {
   "attachments": {},
   "cell_type": "markdown",
   "metadata": {},
   "source": [
    "#### 2.a. Data Loading"
   ]
  },
  {
   "attachments": {},
   "cell_type": "markdown",
   "metadata": {},
   "source": [
    "Load dataset and split it:"
   ]
  },
  {
   "cell_type": "code",
   "execution_count": 5,
   "metadata": {},
   "outputs": [],
   "source": [
    "dataset = utils.load_data(hyperparam_dict['dataset']['data_path'], hyperparam_dict['dataset']['n_samples'])\n",
    "train_dataset, test_dataset = utils.split_train_test(dataset)"
   ]
  },
  {
   "attachments": {},
   "cell_type": "markdown",
   "metadata": {},
   "source": [
    "#### 2.b. Datahandler Initialisation"
   ]
  },
  {
   "cell_type": "code",
   "execution_count": 6,
   "metadata": {},
   "outputs": [],
   "source": [
    "# TODO: Add explanation\n",
    "\n",
    "dh = DataHandler(hyperparam_dict=hyperparam_dict, dataset=train_dataset, test_dataset=test_dataset)\n"
   ]
  },
  {
   "attachments": {},
   "cell_type": "markdown",
   "metadata": {},
   "source": [
    "#### 2.b. Engine Initialisation"
   ]
  },
  {
   "cell_type": "code",
   "execution_count": 16,
   "metadata": {
    "collapsed": false
   },
   "outputs": [],
   "source": [
    "# TODO: Add explanation\n",
    "\n",
    "engine = Engine(dh=dh, hyperparam_dict=hyperparam_dict)\n"
   ]
  },
  {
   "attachments": {},
   "cell_type": "markdown",
   "metadata": {},
   "source": [
    "#### 2.c. Environment and Agent Initialisation"
   ]
  },
  {
   "cell_type": "code",
   "execution_count": 17,
   "metadata": {},
   "outputs": [],
   "source": [
    "engine.create_world()"
   ]
  },
  {
   "attachments": {},
   "cell_type": "markdown",
   "metadata": {},
   "source": [
    "### 3. Agent Training and Saving"
   ]
  },
  {
   "cell_type": "code",
   "execution_count": 9,
   "metadata": {},
   "outputs": [],
   "source": [
    "# TODO: Add explanation"
   ]
  },
  {
   "attachments": {},
   "cell_type": "markdown",
   "metadata": {},
   "source": [
    "#### 3.a. Training"
   ]
  },
  {
   "cell_type": "code",
   "execution_count": 18,
   "metadata": {},
   "outputs": [
    {
     "name": "stderr",
     "output_type": "stream",
     "text": [
      "100%|██████████| 10/10 [00:00<00:00, 297.01it/s]\n"
     ]
    }
   ],
   "source": [
    "# TODO: Add explanation\n",
    "engine.train_agent()"
   ]
  },
  {
   "attachments": {},
   "cell_type": "markdown",
   "metadata": {},
   "source": [
    "#### 3.b. Saving Engine"
   ]
  },
  {
   "cell_type": "code",
   "execution_count": 11,
   "metadata": {},
   "outputs": [],
   "source": [
    "# TODO: Add explanation\n",
    "\n",
    "utils.save_engine(engine, path_name='runs/engine_q_learner_1.pkl')\n"
   ]
  },
  {
   "attachments": {},
   "cell_type": "markdown",
   "metadata": {},
   "source": [
    "#### 3.c Load Engine from Checkpoint"
   ]
  },
  {
   "cell_type": "code",
   "execution_count": 12,
   "metadata": {},
   "outputs": [],
   "source": [
    "# TODO: Add explanation\n",
    "\n",
    "engine = utils.load_engine(path_name='runs/engine_q_learner_1.pkl')"
   ]
  },
  {
   "attachments": {},
   "cell_type": "markdown",
   "metadata": {},
   "source": [
    "### 4. Agent Evaluation"
   ]
  },
  {
   "attachments": {},
   "cell_type": "markdown",
   "metadata": {},
   "source": [
    "Import Evaluator class. The Evaluator class provides custom Reinforcement Learning Plots (such as cumulative reward per episode, or average reward distribution) averaged across different runs. It also provides other metrics such as: total agent reward versus historical reward on the test set, or action accuracy versus historical data."
   ]
  },
  {
   "cell_type": "code",
   "execution_count": 13,
   "metadata": {},
   "outputs": [],
   "source": [
    "from src.evaluation.evaluator import Evaluator\n",
    "\n",
    "evaluator = Evaluator(engines = [engine])"
   ]
  },
  {
   "attachments": {},
   "cell_type": "markdown",
   "metadata": {},
   "source": [
    "Evaluate cumulative reward on test set using historical vs learnt agent policy:"
   ]
  },
  {
   "cell_type": "code",
   "execution_count": 15,
   "metadata": {},
   "outputs": [
    {
     "name": "stdout",
     "output_type": "stream",
     "text": [
      "Historical baseline: 144517.08682381466\n",
      "Agent Policy: 151389.90566518463\n"
     ]
    }
   ],
   "source": [
    "print(f\"Historical baseline: {evaluator.hist_cum_rewards()}\")\n",
    "print(f\"Agent Policy: {evaluator.agent_cum_rewards()}\")"
   ]
  },
  {
   "attachments": {},
   "cell_type": "markdown",
   "metadata": {},
   "source": [
    "Plot cumulative reward versus training episode:"
   ]
  },
  {
   "cell_type": "code",
   "execution_count": 16,
   "metadata": {},
   "outputs": [
    {
     "data": {
      "image/png": "[encoded data removed]",
      "text/plain": [
       "<Figure size 640x480 with 1 Axes>"
      ]
     },
     "metadata": {},
     "output_type": "display_data"
    }
   ],
   "source": [
    "evaluator.plot_training_curve()"
   ]
  },
  {
   "attachments": {},
   "cell_type": "markdown",
   "metadata": {},
   "source": [
    "Plot average reward distribution:"
   ]
  },
  {
   "cell_type": "code",
   "execution_count": 17,
   "metadata": {},
   "outputs": [
    {
     "name": "stdout",
     "output_type": "stream",
     "text": [
      "saving figure\n"
     ]
    },
    {
     "data": {
      "image/png": "[encoded data removed]",
      "text/plain": [
       "<Figure size 640x480 with 1 Axes>"
      ]
     },
     "metadata": {},
     "output_type": "display_data"
    }
   ],
   "source": [
    "evaluator.plot_reward_distribution()"
   ]
  },
  {
   "attachments": {},
   "cell_type": "markdown",
   "metadata": {},
   "source": [
    "### 5. Explainability"
   ]
  },
  {
   "cell_type": "code",
   "execution_count": null,
   "metadata": {},
   "outputs": [],
   "source": [
    "# TODO: Add explanation on explainability framework"
   ]
  },
  {
   "attachments": {},
   "cell_type": "markdown",
   "metadata": {},
   "source": [
    "#### 5.a. PDP Plots"
   ]
  },
  {
   "cell_type": "code",
   "execution_count": null,
   "metadata": {},
   "outputs": [],
   "source": [
    "\n",
    "# TODO: Add explanation\n",
    "if verbose:\n",
    "    timestamp = datetime.now().strftime(\"%d/%m/%Y %H:%M:%S\")\n",
    "    print(f\"{timestamp}: Show PDPs plots\")\n",
    "pdp = PDP(engine=engine)\n",
    "pdp.build_data_for_plots(engine.agent.Q, engine.agent.Q_num_samples)\n",
    "type_features = hyperparam_dict['feature_types']\n",
    "fig_name = \"PDP plots - All states\"\n",
    "pdp.plot_pdp(states_names=state_labels, \n",
    "             fig_name=fig_name,\n",
    "             type_features=type_features, \n",
    "             savefig=True, \n",
    "             all_states=True)\n",
    "# TODO: Change PDP parameters based on new parameters dictionary"
   ]
  },
  {
   "attachments": {},
   "cell_type": "markdown",
   "metadata": {},
   "source": [
    "#### 5.b. Shap Values"
   ]
  },
  {
   "cell_type": "code",
   "execution_count": null,
   "metadata": {},
   "outputs": [],
   "source": [
    "# TODO: Add explanation\n",
    "if verbose:\n",
    "    timestamp = datetime.now().strftime(\"%d/%m/%Y %H:%M:%S\")\n",
    "    print(f\"{timestamp}: Show SHAP values plots\")\n",
    "shap_values = ShapValues(sample=[8, 1, 1, 1],\n",
    "                         engine=engine,\n",
    "                         number_of_samples=shap_num_samples)\n",
    "shaps, predicted_action = shap_values.compute_shap_values()\n",
    "print(shaps)\n",
    "print(predicted_action)\n",
    "# TODO: Change SHAP parameters based on new parameters dictionary"
   ]
  },
  {
   "attachments": {},
   "cell_type": "markdown",
   "metadata": {},
   "source": [
    "### 6. Performance"
   ]
  },
  {
   "cell_type": "code",
   "execution_count": null,
   "metadata": {},
   "outputs": [],
   "source": [
    "# TODO: Add explanation\n",
    "# Explain how to run the performance and what all the results mean"
   ]
  },
  {
   "attachments": {},
   "cell_type": "markdown",
   "metadata": {},
   "source": [
    "### 7. Documentation"
   ]
  },
  {
   "cell_type": "code",
   "execution_count": null,
   "metadata": {},
   "outputs": [],
   "source": [
    "# TODO: Add explanation\n",
    "# Explain how to access documentation in the browser"
   ]
  }
 ],
 "metadata": {
  "kernelspec": {
   "display_name": "venv",
   "language": "python",
   "name": "python3"
  },
  "language_info": {
   "codemirror_mode": {
    "name": "ipython",
    "version": 3
   },
   "file_extension": ".py",
   "mimetype": "text/x-python",
   "name": "python",
   "nbconvert_exporter": "python",
   "pygments_lexer": "ipython3",
   "version": "3.10.6"
  },
  "orig_nbformat": 4
 },
 "nbformat": 4,
 "nbformat_minor": 2
}
