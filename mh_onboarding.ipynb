{
 "cells": [
  {
   "cell_type": "code",
   "execution_count": 1,
   "metadata": {},
   "outputs": [
    {
     "name": "stderr",
     "output_type": "stream",
     "text": [
      " 20%|█▉        | 9967/50000 [01:51<03:02, 219.65it/s]"
     ]
    }
   ],
   "source": [
    "from explainable_rl.foundation.library import *\n",
    "\n",
    "# Import functions\n",
    "from explainable_rl.foundation.engine import Engine\n",
    "from explainable_rl.data_handler.data_handler import DataHandler\n",
    "from explainable_rl.explainability.pdp import PDP\n",
    "from explainable_rl.explainability.shap_values import ShapValues\n",
    "from explainable_rl.evaluation.evaluator import Evaluator\n",
    "from explainable_rl.foundation import utils\n",
    "from explainable_rl.performance.performance_evaluator import PerformanceEvaluator\n",
    "\n",
    "for i in range(20):\n",
    "    hyperparam_dict = {\n",
    "    \"dimensions\": {'states': {'lead_time': 10,\n",
    "                                'length_of_stay': 10,\n",
    "                                'competitor_price_difference_bin': 4,\n",
    "                                'demand_bin': 4},\n",
    "                    'actions': {'price': 10},\n",
    "                    'rewards': ['reward']\n",
    "                    },\n",
    "\n",
    "    \"dataset\": {'data_path': 'data/ds-data/my_example_data.parquet',\n",
    "                'col_delimiter': '|',\n",
    "                'n_samples': 100000,\n",
    "                'normalisation': True},\n",
    "\n",
    "    \"training\": {'env_type': 'strategic_pricing_predict',\n",
    "                    'num_episodes': 50000,\n",
    "                    'num_steps': 1,\n",
    "                    'train_test_split': 0.2,\n",
    "                    'evaluate': True,\n",
    "                    'num_eval_steps': 10000},\n",
    "\n",
    "    \"agent\": {'agent_type': 'sarsa',\n",
    "                \"gamma\": 0.3,\n",
    "                \"epsilon\": 0.1,\n",
    "                \"epsilon_decay\": 0.05,\n",
    "                \"epsilon_minimum\": 0.01,\n",
    "                \"learning_rate\": 0.1,\n",
    "                \"learning_rate_decay\": 0.05,\n",
    "                \"learning_rate_minimum\": 0.01,\n",
    "                \"lambda\": 0.2,\n",
    "                \"use_uncertainty\": False,\n",
    "                \"q_importance\": 0.7,\n",
    "                },\n",
    "\n",
    "    \"explainability\": {'shap_num_samples': 1},\n",
    "\n",
    "    \"program_flow\": {\"verbose\": False}\n",
    "    }   \n",
    "\n",
    "    dataset = utils.load_data(data_path=hyperparam_dict['dataset']['data_path'],\n",
    "                          n_samples=hyperparam_dict['dataset']['n_samples'],\n",
    "                          delimiter=hyperparam_dict['dataset']['col_delimiter'])\n",
    "    train_dataset, test_dataset = utils.split_train_test(dataset)\n",
    "    dh = DataHandler(hyperparam_dict=hyperparam_dict, dataset=train_dataset, test_dataset=test_dataset)\n",
    "    engine = Engine(dh=dh, hyperparam_dict=hyperparam_dict)\n",
    "    engine.create_world()\n",
    "    engine.train_agent()\n",
    "    utils.save_engine(engine, f'runs3/sarsa_{i}.pkl')"
   ]
  }
 ],
 "metadata": {
  "kernelspec": {
   "display_name": "py10",
   "language": "python",
   "name": "python3"
  },
  "language_info": {
   "codemirror_mode": {
    "name": "ipython",
    "version": 3
   },
   "file_extension": ".py",
   "mimetype": "text/x-python",
   "name": "python",
   "nbconvert_exporter": "python",
   "pygments_lexer": "ipython3",
   "version": "3.10.6"
  },
  "orig_nbformat": 4
 },
 "nbformat": 4,
 "nbformat_minor": 2
}
